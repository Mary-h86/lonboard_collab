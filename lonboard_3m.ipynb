{
  "cells": [
    {
      "cell_type": "markdown",
      "id": "0f09e1c5",
      "metadata": {
        "id": "0f09e1c5"
      },
      "source": [
        "# Speedtest Data (`ScatterplotLayer`)\n",
        "\n",
        "This example will use data collected from Ookla's Speed Test application and [shared publicly in the AWS Open Data Registry](https://registry.opendata.aws/speedtest-global-performance/). From the AWS page:\n",
        "\n",
        "> Global fixed broadband and mobile (cellular) network performance, allocated to zoom level 16 web mercator tiles (approximately 610.8 meters by 610.8 meters at the equator). Data is provided in both Shapefile format as well as Apache Parquet with geometries represented in Well Known Text (WKT) projected in EPSG:4326. Download speed, upload speed, and latency are collected via the Speedtest by Ookla applications for Android and iOS and averaged for each tile.\n",
        "\n"
      ]
    },
    {
      "cell_type": "code",
      "source": [
        "!pip install lonboard palettable # ! tells colab to tun this line as a shell command, not Python code."
      ],
      "metadata": {
        "id": "0Fx3AiblER7T"
      },
      "id": "0Fx3AiblER7T",
      "execution_count": null,
      "outputs": []
    },
    {
      "cell_type": "markdown",
      "id": "7dd1dfef-3756-49d9-9480-9a4cdba22345",
      "metadata": {
        "id": "7dd1dfef-3756-49d9-9480-9a4cdba22345"
      },
      "source": [
        "## Imports"
      ]
    },
    {
      "cell_type": "code",
      "id": "d1678764",
      "metadata": {
        "execution": {
          "iopub.execute_input": "2024-03-19T15:24:01.638876Z",
          "iopub.status.busy": "2024-03-19T15:24:01.638623Z",
          "iopub.status.idle": "2024-03-19T15:24:02.499502Z",
          "shell.execute_reply": "2024-03-19T15:24:02.499165Z"
        },
        "ExecuteTime": {
          "end_time": "2025-04-03T19:03:55.516013Z",
          "start_time": "2025-04-03T19:03:55.027153Z"
        },
        "id": "d1678764"
      },
      "source": [
        "from pathlib import Path\n",
        "\n",
        "import geopandas as gpd\n",
        "import numpy as np\n",
        "import pandas as pd\n",
        "import shapely\n",
        "from palettable.colorbrewer.diverging import BrBG_10\n",
        "\n",
        "from lonboard import Map, ScatterplotLayer\n",
        "from lonboard.colormap import apply_continuous_cmap"
      ],
      "outputs": [],
      "execution_count": null
    },
    {
      "cell_type": "markdown",
      "id": "d51ca576",
      "metadata": {
        "id": "d51ca576"
      },
      "source": [
        "## Fetch data\n",
        "\n"
      ]
    },
    {
      "cell_type": "markdown",
      "id": "c747d8b9-94b9-421a-967a-8350bf72de9a",
      "metadata": {
        "id": "c747d8b9-94b9-421a-967a-8350bf72de9a"
      },
      "source": [
        "The URL for a single data file for mobile network speeds in the first quarter of 2019:"
      ]
    },
    {
      "cell_type": "code",
      "id": "34ac8eae",
      "metadata": {
        "execution": {
          "iopub.execute_input": "2024-03-19T15:24:02.501606Z",
          "iopub.status.busy": "2024-03-19T15:24:02.501415Z",
          "iopub.status.idle": "2024-03-19T15:24:02.503402Z",
          "shell.execute_reply": "2024-03-19T15:24:02.503119Z"
        },
        "ExecuteTime": {
          "end_time": "2025-04-03T19:03:55.519855Z",
          "start_time": "2025-04-03T19:03:55.518405Z"
        },
        "id": "34ac8eae"
      },
      "source": [
        "url = \"https://ookla-open-data.s3.us-west-2.amazonaws.com/parquet/performance/type=mobile/year=2019/quarter=1/2019-01-01_performance_mobile_tiles.parquet\""
      ],
      "outputs": [],
      "execution_count": null
    },
    {
      "cell_type": "markdown",
      "id": "5991ef2c-5db0-4110-b6a1-b33fcbddad0d",
      "metadata": {
        "id": "5991ef2c-5db0-4110-b6a1-b33fcbddad0d"
      },
      "source": [
        "The data used in this example is relatively large. In the cell below, we cache the downloading and preparation of the dataset so that it's faster to run this notebook the second time.\n",
        "\n",
        "We fetch two columns — `avg_d_kbps` and `tile` — from this data file directly from AWS. The `pd.read_parquet` command will perform a network request for these columns from the data file, so it may take a while on a slow network connection. `avg_d_kbps` is the average download speed for that data point in kilobits per second. `tile` is the WKT string representing a given zoom-16 Web Mercator tile.\n",
        "\n",
        "The `tile` column contains _strings_ representing WKT-formatted geometries. We need to parse those strings into geometries. Then for simplicity we'll convert into their centroids."
      ]
    },
    {
      "cell_type": "code",
      "id": "7c20cb4c-9746-486f-aef7-95dd2dedd6a5",
      "metadata": {
        "execution": {
          "iopub.execute_input": "2024-03-19T15:24:02.504866Z",
          "iopub.status.busy": "2024-03-19T15:24:02.504745Z",
          "iopub.status.idle": "2024-03-19T15:24:04.068872Z",
          "shell.execute_reply": "2024-03-19T15:24:04.068448Z"
        },
        "ExecuteTime": {
          "end_time": "2025-04-03T19:03:57.011901Z",
          "start_time": "2025-04-03T19:03:56.151142Z"
        },
        "id": "7c20cb4c-9746-486f-aef7-95dd2dedd6a5"
      },
      "source": [
        "local_path = Path(\"internet-speeds.parquet\")\n",
        "if local_path.exists():\n",
        "    gdf = gpd.read_parquet(local_path)\n",
        "else:\n",
        "    columns = [\"avg_d_kbps\", \"tile\"]\n",
        "    df = pd.read_parquet(url, columns=columns)\n",
        "\n",
        "    tile_geometries = shapely.from_wkt(df[\"tile\"])\n",
        "    tile_centroids = shapely.centroid(tile_geometries)\n",
        "    gdf = gpd.GeoDataFrame(df[[\"avg_d_kbps\"]], geometry=tile_centroids, crs='EPSG:4326')\n",
        "    gdf.to_parquet(local_path)"
      ],
      "outputs": [],
      "execution_count": null
    },
    {
      "cell_type": "markdown",
      "id": "5852aa94-2d18-4a1b-b379-be19682d57eb",
      "metadata": {
        "id": "5852aa94-2d18-4a1b-b379-be19682d57eb"
      },
      "source": [
        "We can take a quick look at this data:"
      ]
    },
    {
      "cell_type": "code",
      "id": "4b27e9a4",
      "metadata": {
        "execution": {
          "iopub.execute_input": "2024-03-19T15:24:04.070444Z",
          "iopub.status.busy": "2024-03-19T15:24:04.070366Z",
          "iopub.status.idle": "2024-03-19T15:24:04.077585Z",
          "shell.execute_reply": "2024-03-19T15:24:04.077375Z"
        },
        "ExecuteTime": {
          "end_time": "2025-04-03T19:03:57.021610Z",
          "start_time": "2025-04-03T19:03:57.016594Z"
        },
        "id": "4b27e9a4"
      },
      "source": [
        "gdf.head()"
      ],
      "outputs": [],
      "execution_count": null
    },
    {
      "cell_type": "markdown",
      "id": "3cc2215e-7706-4ab3-b674-3de4ca41899c",
      "metadata": {
        "id": "3cc2215e-7706-4ab3-b674-3de4ca41899c"
      },
      "source": [
        "Even this filtered data frame still has 800,000 rows, so it's still a lot of data to explore:"
      ]
    },
    {
      "cell_type": "code",
      "id": "a34a6a27-0259-4da9-94c4-923466da05fb",
      "metadata": {
        "execution": {
          "iopub.execute_input": "2024-03-19T15:24:04.447112Z",
          "iopub.status.busy": "2024-03-19T15:24:04.447037Z",
          "iopub.status.idle": "2024-03-19T15:24:04.454456Z",
          "shell.execute_reply": "2024-03-19T15:24:04.454231Z"
        },
        "ExecuteTime": {
          "end_time": "2025-04-03T19:03:57.906126Z",
          "start_time": "2025-04-03T19:03:57.902571Z"
        },
        "id": "a34a6a27-0259-4da9-94c4-923466da05fb"
      },
      "source": [
        "gdf"
      ],
      "outputs": [],
      "execution_count": null
    },
    {
      "cell_type": "markdown",
      "id": "81a61ec4-2a09-40c0-aa92-7dca570bbd49",
      "metadata": {
        "id": "81a61ec4-2a09-40c0-aa92-7dca570bbd49"
      },
      "source": [
        "To render point data, first create a `ScatterplotLayer` and then add it to a `Map` object:"
      ]
    },
    {
      "cell_type": "code",
      "id": "570ab332-3767-4246-8d83-df4625b2ae48",
      "metadata": {
        "execution": {
          "iopub.execute_input": "2024-03-19T15:24:04.455840Z",
          "iopub.status.busy": "2024-03-19T15:24:04.455754Z",
          "iopub.status.idle": "2024-03-19T15:24:04.747545Z",
          "shell.execute_reply": "2024-03-19T15:24:04.747306Z"
        },
        "ExecuteTime": {
          "end_time": "2025-04-03T19:03:58.965111Z",
          "start_time": "2025-04-03T19:03:58.721082Z"
        },
        "id": "570ab332-3767-4246-8d83-df4625b2ae48"
      },
      "source": [
        "layer = ScatterplotLayer.from_geopandas(gdf)\n",
        "m = Map(layer)\n",
        "m"
      ],
      "outputs": [],
      "execution_count": null
    },
    {
      "cell_type": "markdown",
      "id": "6f4d89c3-282a-4beb-9f35-68eb9645e8c0",
      "metadata": {
        "id": "6f4d89c3-282a-4beb-9f35-68eb9645e8c0"
      },
      "source": [
        "We can look at the [documentation for `ScatterplotLayer`](https://developmentseed.org/lonboard/latest/api/layers/scatterplot-layer/) to see what other rendering options it allows. Let's set the fill color to something other than black:"
      ]
    },
    {
      "cell_type": "code",
      "id": "3912b241-577f-4ac3-b78f-2702e89d6010",
      "metadata": {
        "execution": {
          "iopub.execute_input": "2024-03-19T15:24:04.759794Z",
          "iopub.status.busy": "2024-03-19T15:24:04.759695Z",
          "iopub.status.idle": "2024-03-19T15:24:04.761508Z",
          "shell.execute_reply": "2024-03-19T15:24:04.761299Z"
        },
        "ExecuteTime": {
          "end_time": "2025-04-03T19:03:59.548615Z",
          "start_time": "2025-04-03T19:03:59.546874Z"
        },
        "id": "3912b241-577f-4ac3-b78f-2702e89d6010"
      },
      "source": [
        "layer.get_fill_color = [0, 0, 200, 200]"
      ],
      "outputs": [],
      "execution_count": null
    },
    {
      "cell_type": "markdown",
      "id": "b66a73b6-69c1-4661-a7ad-2dd3941c8753",
      "metadata": {
        "id": "b66a73b6-69c1-4661-a7ad-2dd3941c8753"
      },
      "source": [
        "Blue is pretty, but the map would be more informative if we colored each point by a relevant characteristic. In this case, we have the download speed associated with each location, so let's use that!"
      ]
    },
    {
      "cell_type": "markdown",
      "id": "ce630455-3e19-47f1-bb69-81fdcd99b126",
      "metadata": {
        "id": "ce630455-3e19-47f1-bb69-81fdcd99b126"
      },
      "source": [
        "Here we compute a linear statistic for the download speed. Given a minimum bound of `5000` and a maximum bound of `50,000` the normalized speed is linearly scaled to between 0 and 1."
      ]
    },
    {
      "cell_type": "code",
      "id": "179071b3",
      "metadata": {
        "execution": {
          "iopub.execute_input": "2024-03-19T15:24:04.762751Z",
          "iopub.status.busy": "2024-03-19T15:24:04.762672Z",
          "iopub.status.idle": "2024-03-19T15:24:04.766230Z",
          "shell.execute_reply": "2024-03-19T15:24:04.765995Z"
        },
        "ExecuteTime": {
          "end_time": "2025-04-03T19:04:10.934438Z",
          "start_time": "2025-04-03T19:04:10.930243Z"
        },
        "id": "179071b3"
      },
      "source": [
        "min_bound = 5000\n",
        "max_bound = 50000\n",
        "download_speed = gdf['avg_d_kbps']\n",
        "normalized_download_speed = (download_speed - min_bound) / (max_bound - min_bound)"
      ],
      "outputs": [],
      "execution_count": null
    },
    {
      "cell_type": "markdown",
      "id": "7f678b8e-ad23-4ebd-842c-c5158e1ec741",
      "metadata": {
        "id": "7f678b8e-ad23-4ebd-842c-c5158e1ec741"
      },
      "source": [
        "`normalized_download_speed` is now linearly scaled based on the bounds provided above. Keep in mind that the **input range of the colormap is 0-1**. So any values that are below 0 will receive the left-most color in the colormap, while any values above 1 will receive the right-most color in the colormap."
      ]
    },
    {
      "cell_type": "code",
      "id": "a8df3963-2bc2-4f89-8a38-20e232a13932",
      "metadata": {
        "execution": {
          "iopub.execute_input": "2024-03-19T15:24:04.767492Z",
          "iopub.status.busy": "2024-03-19T15:24:04.767410Z",
          "iopub.status.idle": "2024-03-19T15:24:04.770171Z",
          "shell.execute_reply": "2024-03-19T15:24:04.769967Z"
        },
        "ExecuteTime": {
          "end_time": "2025-04-03T19:04:11.783586Z",
          "start_time": "2025-04-03T19:04:11.780816Z"
        },
        "id": "a8df3963-2bc2-4f89-8a38-20e232a13932"
      },
      "source": [
        "normalized_download_speed"
      ],
      "outputs": [],
      "execution_count": null
    },
    {
      "cell_type": "markdown",
      "id": "dc0e388f-eeed-4339-bd54-0491f79f45aa",
      "metadata": {
        "id": "dc0e388f-eeed-4339-bd54-0491f79f45aa"
      },
      "source": [
        "We can use any colormap provided by the [`palettable`](https://github.com/jiffyclub/palettable) package. Let's inspect the `BrBG_10` diverging colormap below:"
      ]
    },
    {
      "cell_type": "code",
      "id": "9d5347e2-84c7-40bc-af45-c8638188709e",
      "metadata": {
        "execution": {
          "iopub.execute_input": "2024-03-19T15:24:04.771318Z",
          "iopub.status.busy": "2024-03-19T15:24:04.771235Z",
          "iopub.status.idle": "2024-03-19T15:24:04.782135Z",
          "shell.execute_reply": "2024-03-19T15:24:04.781932Z"
        },
        "ExecuteTime": {
          "end_time": "2025-04-03T19:04:13.105967Z",
          "start_time": "2025-04-03T19:04:13.097052Z"
        },
        "id": "9d5347e2-84c7-40bc-af45-c8638188709e"
      },
      "source": [
        "BrBG_10.mpl_colormap"
      ],
      "outputs": [],
      "execution_count": null
    },
    {
      "cell_type": "markdown",
      "id": "8eb59fd6-3b7d-4db9-ad9b-a66e4e58152f",
      "metadata": {
        "id": "8eb59fd6-3b7d-4db9-ad9b-a66e4e58152f"
      },
      "source": [
        "Now let's apply the colormap on `normalized_download_speed` using a helper provided by `lonboard`. We can set it on `layer.get_fill_color` to update the existing colors."
      ]
    },
    {
      "cell_type": "code",
      "id": "5a77f728-9cbe-4372-9bfd-d6dee4b93a01",
      "metadata": {
        "execution": {
          "iopub.execute_input": "2024-03-19T15:24:04.783336Z",
          "iopub.status.busy": "2024-03-19T15:24:04.783258Z",
          "iopub.status.idle": "2024-03-19T15:24:04.869181Z",
          "shell.execute_reply": "2024-03-19T15:24:04.868915Z"
        },
        "ExecuteTime": {
          "end_time": "2025-04-03T19:04:14.588869Z",
          "start_time": "2025-04-03T19:04:14.516560Z"
        },
        "id": "5a77f728-9cbe-4372-9bfd-d6dee4b93a01"
      },
      "source": [
        "layer.get_fill_color = apply_continuous_cmap(normalized_download_speed, BrBG_10, alpha=0.7)"
      ],
      "outputs": [],
      "execution_count": null
    },
    {
      "cell_type": "markdown",
      "id": "44611c75-f9e6-4f53-af7d-c640d641dc15",
      "metadata": {
        "id": "44611c75-f9e6-4f53-af7d-c640d641dc15"
      },
      "source": [
        "After running the above cell, you should see the map above update with a different color per point!"
      ]
    },
    {
      "cell_type": "markdown",
      "id": "0bd168fe-53a1-4313-9c11-720edbfa5c6c",
      "metadata": {
        "id": "0bd168fe-53a1-4313-9c11-720edbfa5c6c"
      },
      "source": [
        "We can pass an array into any of the \"accessors\" supported by the layer (this is any attribute that starts with `get_*`).\n",
        "\n",
        "For demonstration purposes, let's also set `get_radius` to `normalized_download_speed`."
      ]
    },
    {
      "cell_type": "code",
      "id": "579233ef-e077-4c8f-a111-f33d44f30a0d",
      "metadata": {
        "execution": {
          "iopub.execute_input": "2024-03-19T15:24:04.872145Z",
          "iopub.status.busy": "2024-03-19T15:24:04.872054Z",
          "iopub.status.idle": "2024-03-19T15:24:04.904325Z",
          "shell.execute_reply": "2024-03-19T15:24:04.904046Z"
        },
        "ExecuteTime": {
          "end_time": "2025-04-03T19:03:29.486491Z",
          "start_time": "2025-04-03T19:03:29.458413Z"
        },
        "id": "579233ef-e077-4c8f-a111-f33d44f30a0d"
      },
      "source": [
        "layer.get_radius = normalized_download_speed * 200\n",
        "layer.radius_units = \"meters\"\n",
        "layer.radius_min_pixels = 0.5"
      ],
      "outputs": [],
      "execution_count": null
    },
    {
      "cell_type": "markdown",
      "id": "06e2338e-8461-49f7-9884-475fffc64789",
      "metadata": {
        "id": "06e2338e-8461-49f7-9884-475fffc64789"
      },
      "source": [
        "After running the above cell, you should see the map updated to have a different radius per point!"
      ]
    }
  ],
  "metadata": {
    "kernelspec": {
      "display_name": "n2t311",
      "language": "python",
      "name": "n2t311"
    },
    "language_info": {
      "codemirror_mode": {
        "name": "ipython",
        "version": 3
      },
      "file_extension": ".py",
      "mimetype": "text/x-python",
      "name": "python",
      "nbconvert_exporter": "python",
      "pygments_lexer": "ipython3",
      "version": "3.11.4"
    },
    "colab": {
      "provenance": [],
      "gpuType": "T4"
    },
    "accelerator": "GPU"
  },
  "nbformat": 4,
  "nbformat_minor": 5
}